{
 "cells": [
  {
   "cell_type": "markdown",
   "metadata": {},
   "source": [
    "![imagenes](logo.png)"
   ]
  },
  {
   "cell_type": "markdown",
   "metadata": {},
   "source": [
    "# Lectura y escritura de archivos."
   ]
  },
  {
   "cell_type": "markdown",
   "metadata": {},
   "source": [
    "\n",
    "## Apertura de un archivo con la función _open()._\n",
    "\n",
    "La función ```open()``` tiene por objeto interactuar con el sistema de archivos local para crear, sobreescribir, leer o desplazarse dentro de un archivo ya sea de texto o binario. \n",
    "\n",
    "```\n",
    "<nombre> = open('<ruta del archivo>', '<modo>')\n",
    "```\n",
    "\n",
    "* En donde el modo de acceso es una combinación de caracteres que indican el tipo de archivo del que se trata y el tipo como se accede a este. "
   ]
  },
  {
   "cell_type": "markdown",
   "metadata": {},
   "source": [
    "### Modos de acceso a un archivo."
   ]
  },
  {
   "cell_type": "markdown",
   "metadata": {},
   "source": [
    "#### Por el tipo de acceso.\n",
    "\n",
    "* El caracter ```'r'``` indica que se accederá a un archivo exclusivamente para su lectura. En caso de que el archivo no exista se desencadenará un error de tipo ```FileNotFoundError```.\n",
    "* El caracter ```'w'``` indica que se creará un archivo nuevo para escritura. En caso de que ya exista ese archivo éste será reemplazado.\n",
    "* El caracter ```'x'``` indica que se creará un archivo nuevo para escritura. En caso de que el archivo exista se emitirá un error de tipo ```FileExistsError```. \n",
    "* El caracter ```'a'``` indica que se accederá a un archivo para escritura. En caso de existir un archivo el puntero se localizará al final de éste. En caso de no exisitr, creará al archivo.\n",
    "* Los caracteres ```'r+'``` indican que se accederá a un archivo para realizar operaciones de de escritura y lectura. En caso de que el archivo no exista se desencadenará un error de tipo ```FileNotFoundError```."
   ]
  },
  {
   "cell_type": "markdown",
   "metadata": {},
   "source": [
    "#### Por el tipo de archivo.\n",
    "\n",
    "Los archivos de texto y los archivos binarios representan dos tipos de objeto distintos en Python.\n",
    "\n",
    "* El caracter ```'t'``` indica que se trata de un archivo de texto. Este es el tipo de archivo que se usa por defecto.\n",
    "* El caracter ```'b'``` indica que se trata de un archivo binario. Se creará un objeto específico dependiendo del tipo de acceso.\n",
    "\n"
   ]
  },
  {
   "cell_type": "markdown",
   "metadata": {},
   "source": [
    "### Tipos de objetos creados por ```open()```.\n",
    "\n",
    "La función ```open()``` puede crear objetos que permiten relizar las operaciones de lectura y escritura de archivos.\n",
    "\n",
    "La siguiente tabla describe los tipos de objetos que se crearán depenediendo del tipo de archivo y del tipo de acceso del que se trate.\n",
    "\n",
    "|Tipo de accesso|Texto|Binario|\n",
    "|:----------------:|:-------:|:---------:|\n",
    "|Lectura|```_io.TextIOWrapper```|```_io.BufferedReader``` \n",
    "|Escritura|```_io.TextIOWrapper```|```_io.BufferedWriter```\n",
    "|Escritura/Lectura|```_io.TextIOWrapper```|```_io.BufferedRandom```"
   ]
  },
  {
   "cell_type": "markdown",
   "metadata": {},
   "source": [
    "## Tamaño y posición de los archivos.\n",
    "\n",
    "Los archivos pueden contener ya sea bytes o caracteres acomodados uno detrás de otro. A cada elemento le corresponde una posición numérica que inicia a partir de cero."
   ]
  },
  {
   "cell_type": "markdown",
   "metadata": {},
   "source": [
    "## Métodos más utilizados para gestión de archivos comunes para archivos binarios y de texto."
   ]
  },
  {
   "cell_type": "markdown",
   "metadata": {},
   "source": [
    "### El método ```close()```.\n",
    "\n",
    "Es imperativo que una vez que se hayan realizado todas las operaciones de entrada y de salida de archivos, este sea cerrado de manera adecuada. En caso de no hacerlo, es altamente probable que el archivo se encuentre en un estado inestable y corra riesgo de que la información contenida se corrompa o destruya.\n",
    "\n",
    "```\n",
    "<objeto de archivo>.close()\n",
    "```"
   ]
  },
  {
   "cell_type": "markdown",
   "metadata": {},
   "source": [
    "### El método ```writable()```.\n",
    "\n",
    "Este método valida si el archivo está habilitado para escritura. Regresará ```True```si el archivo está en modo de escritura.\n",
    "\n",
    "```\n",
    "<objeto de archivo>.writable()\n",
    "```"
   ]
  },
  {
   "cell_type": "markdown",
   "metadata": {},
   "source": [
    "### El método ```readable()```.\n",
    "\n",
    "Este método valida si el archivo está habilitado para escritura. Regresará ```True``` si el archivo está en modo de lectura.\n",
    "\n",
    "```\n",
    "<objeto de archivo>.readable()\n",
    "```"
   ]
  },
  {
   "cell_type": "markdown",
   "metadata": {},
   "source": [
    "### El método ```seekable()```.\n",
    "\n",
    "Este método valida si es posible trasladarse a lo largo del archivo. Devolverá _True_ si es posible desplazarse dentro del archivo.\n",
    "\n",
    "```\n",
    "<objeto de archivo>.seekable()\n",
    "```"
   ]
  },
  {
   "cell_type": "markdown",
   "metadata": {},
   "source": [
    "### El método ```tell()```.\n",
    "\n",
    "Regresará la posición en la que se encuentra el puntero dentro del archivo.\n",
    "\n",
    "```\n",
    "<objeto de archivo>.tell()\n",
    "```"
   ]
  },
  {
   "cell_type": "markdown",
   "metadata": {
    "collapsed": true
   },
   "source": [
    "### El método ```seek()```.\n",
    "Moverá el puntero a la posición indicada.\n",
    "\n",
    "```\n",
    "<objeto de archivo>.seek(<posición>)\n",
    "```"
   ]
  },
  {
   "cell_type": "markdown",
   "metadata": {},
   "source": [
    "### El método ```read()```.\n",
    "\n",
    "\n",
    "Este método leerá y regresará el contenido de un archivo en caso de que el archivo se encuentre en modo de lectura.\n",
    "\n",
    "* Si se ingresa un número entero como argumento:\n",
    "    * Leerá el número de posiciones indicadas en el argumento a partir de la posición en la que se encuentre.\n",
    "    * Desplazará el puntero hasta la última posición de lectura.\n",
    "    * Regresará el contenido leido.\n",
    "\n",
    "* Si no se ingresa un argumento, leera a partir de la posición en la que se encuentre y moverá el puntero hasta la última posición de lectura.\n",
    "    * Leerá el archivo completo a partir de la posición en la que se encuentre.\n",
    "    * Desplazará el puntero hasta el final del archivo.\n",
    "    * Regresará el contenido leido.\n",
    "\n",
    "```\n",
    "<objeto de archivo>.read(n)\n",
    "```\n",
    "\n",
    "Donde  ```n``` es el número de posiciones que leerá el método."
   ]
  },
  {
   "cell_type": "markdown",
   "metadata": {},
   "source": [
    "### El método ```write()```.\n",
    "\n",
    "Este método escribirá en el archivo en caso de que el archivo se encuentre en modo de escritura. \n",
    "\n",
    "* El contenido ingresado como argumento se escribirá partir de la posición en la que se encuentre el puntero.\n",
    "* El contenido ingresado como argumento sobreescribirá al texto existente. \n",
    "* Una vez terminada la operación, regresará la nueva posición del puntero.\n",
    "\n",
    "```\n",
    "<objeto de archivo>.write(<contenido>)\n",
    "```"
   ]
  },
  {
   "cell_type": "markdown",
   "metadata": {},
   "source": [
    "**Ejemplo:**"
   ]
  },
  {
   "cell_type": "code",
   "execution_count": null,
   "metadata": {},
   "outputs": [],
   "source": [
    "archivo = open(\"prueba.bin\", \"wb\")"
   ]
  },
  {
   "cell_type": "code",
   "execution_count": null,
   "metadata": {},
   "outputs": [],
   "source": [
    "type(archivo)"
   ]
  },
  {
   "cell_type": "code",
   "execution_count": null,
   "metadata": {},
   "outputs": [],
   "source": [
    "archivo.write(b'Hola, mundo.')"
   ]
  },
  {
   "cell_type": "code",
   "execution_count": null,
   "metadata": {},
   "outputs": [],
   "source": [
    "archivo.seekable()"
   ]
  },
  {
   "cell_type": "code",
   "execution_count": null,
   "metadata": {},
   "outputs": [],
   "source": [
    "archivo.tell()"
   ]
  },
  {
   "cell_type": "code",
   "execution_count": null,
   "metadata": {},
   "outputs": [],
   "source": [
    "archivo.close()"
   ]
  },
  {
   "cell_type": "code",
   "execution_count": null,
   "metadata": {},
   "outputs": [],
   "source": [
    "archivo = open(\"prueba.bin\", \"br\")"
   ]
  },
  {
   "cell_type": "code",
   "execution_count": null,
   "metadata": {},
   "outputs": [],
   "source": [
    "type(archivo)"
   ]
  },
  {
   "cell_type": "code",
   "execution_count": null,
   "metadata": {},
   "outputs": [],
   "source": [
    "archivo.tell()"
   ]
  },
  {
   "cell_type": "code",
   "execution_count": null,
   "metadata": {},
   "outputs": [],
   "source": [
    "archivo.seek(5)"
   ]
  },
  {
   "cell_type": "code",
   "execution_count": null,
   "metadata": {},
   "outputs": [],
   "source": [
    "archivo.read()"
   ]
  },
  {
   "cell_type": "code",
   "execution_count": null,
   "metadata": {},
   "outputs": [],
   "source": [
    "archivo.seek(0)"
   ]
  },
  {
   "cell_type": "code",
   "execution_count": null,
   "metadata": {},
   "outputs": [],
   "source": [
    "archivo.read(4)"
   ]
  },
  {
   "cell_type": "code",
   "execution_count": null,
   "metadata": {},
   "outputs": [],
   "source": [
    "archivo.close()"
   ]
  },
  {
   "cell_type": "code",
   "execution_count": null,
   "metadata": {},
   "outputs": [],
   "source": [
    "%cat prueba.bin"
   ]
  },
  {
   "cell_type": "markdown",
   "metadata": {},
   "source": [
    "## Métodos exclusivos para archivos de texto.\n",
    "\n",
    "### _readline()_.\n",
    "Leerá el texto desde la posición en que se localice hasta encontrar el caracter de escape retorno de línea (_'\\\\n')_. Cuando el punterose encuentre al final del archivo (EOF), regresará un objeto de cadena de caracteres vacío (_''_).\n",
    "\n",
    "### _readlines()_.\n",
    "Leerá el texto desde la posición en que se localice y creará un objeto de tipo _tuple_ que contenga cada línea dentro del archivo.\n",
    "\n",
    "### _writelines()_.\n",
    "Escribirá el texto contenido dentro de un elemento de tipo _list_ o _tuple_.\n",
    "\n",
    "**Ejemplos.**\n",
    "\n",
    "* Se creará un archivo de texto nuevo con el nombre *prueba.txt*.\n",
    "* Al objeto se le asignará el nombre *archivo*.\n",
    "* Se escribirán 3 líneas.\n",
    "* Se desplegará la posición del puntero del archivo.\n",
    "* Se desplegará el tipo de dato que es la variable *archivo*.\n",
    "* Se cerrará el archivo."
   ]
  },
  {
   "cell_type": "code",
   "execution_count": null,
   "metadata": {},
   "outputs": [],
   "source": [
    "archivo = open(\"prueba.txt\", \"w\")\n",
    "archivo.write(\"Hola.\\nBienvenido al curso de Python.\\nEsperamos que sea una agradable experiencia.\")\n",
    "print(archivo.tell())\n",
    "print(type(archivo))\n",
    "archivo.close()"
   ]
  },
  {
   "cell_type": "code",
   "execution_count": null,
   "metadata": {},
   "outputs": [],
   "source": [
    "%cat prueba.txt"
   ]
  },
  {
   "cell_type": "markdown",
   "metadata": {},
   "source": [
    "* Se abrirá el archivo *prueba.txt* como sólo lectura.\n",
    "* Al objeto se le asignará el nombre *archivo*.\n",
    "* Se leerá la primera línea de texto.\n",
    "* Se desplegará dicha línea.\n",
    "* Se cerrará el archivo."
   ]
  },
  {
   "cell_type": "code",
   "execution_count": null,
   "metadata": {},
   "outputs": [],
   "source": [
    "archivo = open(\"prueba.txt\", \"rU\")\n",
    "print(archivo.readline())\n",
    "archivo.close()"
   ]
  },
  {
   "cell_type": "markdown",
   "metadata": {},
   "source": [
    "* Se abrirá el archivo *prueba.txt* como sólo lectura.\n",
    "* Al objeto se le asignará el nombre *archivo*.\n",
    "* Se localizará el puntero en la posición 12 del archivo.\n",
    "* Se leerán todas línea de texto a partir de dicha posición.\n",
    "* Se desplegará cada línea.\n",
    "* Se cerrará el archivo."
   ]
  },
  {
   "cell_type": "code",
   "execution_count": null,
   "metadata": {
    "scrolled": true
   },
   "outputs": [],
   "source": [
    "archivo = open(\"prueba.txt\", \"r\")\n",
    "archivo.seek(12)\n",
    "for linea in archivo.readlines():\n",
    "    print(linea)\n",
    "archivo.close()"
   ]
  },
  {
   "cell_type": "markdown",
   "metadata": {},
   "source": [
    "* Se abrirá el archivo prueba.txt como escritura no destructiva, posicionando e puntero al final del archivo.\n",
    "* Al objeto se le asignará el nombre archivo.\n",
    "* Se desplegará la posición del puntero.\n",
    "* Se añadirán 2 líneas de texto.\n",
    "* Se desplegará la nueva posición del puntero.\n",
    "* Se cerrará el archivo."
   ]
  },
  {
   "cell_type": "code",
   "execution_count": null,
   "metadata": {},
   "outputs": [],
   "source": [
    "archivo = open(\"prueba.txt\", \"a\")\n",
    "print(archivo.tell())\n",
    "archivo.write(\"\\nNueva linea.\\nAqui \\ty alla.\")\n",
    "print(archivo.tell())\n",
    "archivo.close()"
   ]
  },
  {
   "cell_type": "code",
   "execution_count": null,
   "metadata": {},
   "outputs": [],
   "source": [
    "%cat prueba.txt"
   ]
  },
  {
   "cell_type": "code",
   "execution_count": null,
   "metadata": {},
   "outputs": [],
   "source": [
    "!type prueba.txt"
   ]
  },
  {
   "cell_type": "markdown",
   "metadata": {},
   "source": [
    "* Se abrirá el archivo *prueba.txt* como lectura/escritura.\n",
    "* Al objeto se le asignará el nombre *archivo*.\n",
    "* Se sobreescribirá el texto inicial.\n",
    "* Se posicionará al puntero al inicio del archivo.\n",
    "* Se desplegará todo texto a partir de dicha posición.\n",
    "* Se cerrará el archivo."
   ]
  },
  {
   "cell_type": "code",
   "execution_count": null,
   "metadata": {},
   "outputs": [],
   "source": [
    "archivo = open(\"prueba.txt\", \"r+\")\n",
    "print(type(archivo))\n",
    "archivo.write(\"HOLA\")\n",
    "archivo.seek(0)\n",
    "print(archivo.read())\n",
    "archivo.close()"
   ]
  },
  {
   "cell_type": "markdown",
   "metadata": {},
   "source": [
    "## Iteraciones con archivos de texto.\n",
    "\n",
    "Cuando se utiliza una objeto de tipo archivo de texto en modo de lectura dentro de una estructura _for_ ... _in_, éste se regresará una sucesión de _readline()_ hasta llegar al final del archivo.\n",
    "\n",
    "**Ejemplo:**"
   ]
  },
  {
   "cell_type": "code",
   "execution_count": null,
   "metadata": {},
   "outputs": [],
   "source": [
    "archivo = open(\"prueba.txt\", \"r\")\n",
    "for linea in archivo:\n",
    "    print(linea)\n",
    "archivo.close()"
   ]
  },
  {
   "cell_type": "code",
   "execution_count": null,
   "metadata": {},
   "outputs": [],
   "source": [
    "archivo = open(\"prueba.txt\", \"r\")\n",
    "for linea in archivo.readlines():\n",
    "    print(linea)\n",
    "archivo.close()"
   ]
  },
  {
   "cell_type": "markdown",
   "metadata": {},
   "source": [
    "## Operaciones seguras con la estructura _with open()_... _as_... :\n",
    "\n",
    "Esta estructura permite ejecutar un bloque de código que una vez ejecutado, cierre automáticamente al archivo.\n",
    "\n",
    "**Sintaxis:**\n",
    "```\n",
    "with open (<nombre del archivo>, <modo>) as <nombre>:\n",
    "    ...\n",
    "    ...\n",
    "```\n",
    "**Ejemplo:**"
   ]
  },
  {
   "cell_type": "code",
   "execution_count": null,
   "metadata": {},
   "outputs": [],
   "source": [
    "with open(\"nuevo_texto.txt\", \"w\") as archivo:\n",
    "    archivo.writelines([\"Enhorabuena.\\n\",\"Ha creado un archivo de forma segura.\"])"
   ]
  },
  {
   "cell_type": "code",
   "execution_count": null,
   "metadata": {},
   "outputs": [],
   "source": [
    "%cat nuevo_texto.txt"
   ]
  },
  {
   "cell_type": "code",
   "execution_count": null,
   "metadata": {},
   "outputs": [],
   "source": [
    "!type nuevo_texto.txt"
   ]
  }
 ],
 "metadata": {
  "kernelspec": {
   "display_name": "Python 3",
   "language": "python",
   "name": "python3"
  },
  "language_info": {
   "codemirror_mode": {
    "name": "ipython",
    "version": 3
   },
   "file_extension": ".py",
   "mimetype": "text/x-python",
   "name": "python",
   "nbconvert_exporter": "python",
   "pygments_lexer": "ipython3",
   "version": "3.7.4"
  }
 },
 "nbformat": 4,
 "nbformat_minor": 1
}
