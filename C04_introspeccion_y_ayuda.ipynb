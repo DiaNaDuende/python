{
 "cells": [
  {
   "cell_type": "markdown",
   "metadata": {},
   "source": [
    "![imagenes](logo.png)"
   ]
  },
  {
   "cell_type": "markdown",
   "metadata": {},
   "source": [
    "# Ayuda."
   ]
  },
  {
   "cell_type": "markdown",
   "metadata": {},
   "source": [
    "## La función ```help()```.\n",
    "\n",
    "Python es puede ofrecer información al usuario mediante un proceso llamado \"Introspección\", el cual es capaz de analizar al objeto y a partir de su estructura y comentarios del código, generar documentación.\n",
    "\n",
    "La función ```help(``` despliega la información sobre la estructura y documentación de un objeto en el entorno interactivo mediante la siguiente sintaxis:\n",
    "\n",
    "```\n",
    "help(<objeto>)\n",
    "```\n",
    "\n",
    "La función ```help()``` también despliega algunos otros datos a partir de ciertas palabras clave en  formato de cadena de texto como ```\"keywords\"```, ```\"modules\"```, ```\"topics\"```, etc. \n",
    "\n",
    "Si se usa ```help()``` con una cadena de caracteres que no coincida con alguna palabra clave como las mencionadas, se generará un error."
   ]
  },
  {
   "cell_type": "markdown",
   "metadata": {},
   "source": [
    "**Ejemplo:**"
   ]
  },
  {
   "cell_type": "markdown",
   "metadata": {},
   "source": [
    "* La siguiente celda desplegará la documentación de los objetos de tipo ```int``` en vistya de que Python identifica al valor ```3``` como dicho tipo de objeto."
   ]
  },
  {
   "cell_type": "code",
   "execution_count": null,
   "metadata": {},
   "outputs": [],
   "source": [
    "help(3)"
   ]
  },
  {
   "cell_type": "markdown",
   "metadata": {},
   "source": [
    "### Navegación dentro de la ventana de ayuda desde el intérprete de Python.\n",
    "\n",
    "Debido a que el contenido desplegado por ```help()``` generalmente se extiende más allá de la capacidad de una pantalla de texto, el entorno interactivo cambia a un modo de lectura en el cual uno se puede trasladar a lo largo del texto de ayuda con las teclas de <kbd>Arriba</kbd>, <kbd>Abajo</kbd>, <kbd>AvPág</kbd>, <kbd>RePág</kbd>, <kbd>Inicio</kbd> y <kbd>Fin</kbd>.\n",
    "\n",
    "Para salir del modo de lectura sólo es necesario ingresar la tecla <kbd>q</kbd>."
   ]
  }
 ],
 "metadata": {
  "kernelspec": {
   "display_name": "Python 3",
   "language": "python",
   "name": "python3"
  },
  "language_info": {
   "codemirror_mode": {
    "name": "ipython",
    "version": 3
   },
   "file_extension": ".py",
   "mimetype": "text/x-python",
   "name": "python",
   "nbconvert_exporter": "python",
   "pygments_lexer": "ipython3",
   "version": "3.7.5"
  }
 },
 "nbformat": 4,
 "nbformat_minor": 1
}
